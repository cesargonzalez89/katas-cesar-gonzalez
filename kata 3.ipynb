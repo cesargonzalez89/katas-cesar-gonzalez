{
 "cells": [
  {
   "cell_type": "markdown",
   "metadata": {},
   "source": [
    "# Ejercicio - Escribir declaraciones if, else, y elif"
   ]
  },
  {
   "cell_type": "code",
   "execution_count": 4,
   "metadata": {},
   "outputs": [
    {
     "name": "stdout",
     "output_type": "stream",
     "text": [
      "Hoy se estrella un asteroide\n"
     ]
    }
   ],
   "source": [
    "# Añadir el código necesario para crear una variable que guarde la velocidad del asteroide.\n",
    "velocidadAsteroide = 49\n",
    "\n",
    "# Escribe una expresión de prueba para calcular si necesita una advertencia.\n",
    "if velocidadAsteroide>25:\n",
    "    # intrucción(es) a ejecutar\n",
    "    print(\"Hoy se estrella un asteroide\")\n",
    "# Agregue las instrucciones que se ejecutarán si la expresión de prueba es true o false.\n",
    "else: \n",
    "    # intrucción(es) a ejecutar\n",
    "    print(\"Hoy no se estrella un asteroide, viva feliz.\")"
   ]
  },
  {
   "cell_type": "code",
   "execution_count": 6,
   "metadata": {},
   "outputs": [
    {
     "name": "stdout",
     "output_type": "stream",
     "text": [
      "No es necesario ver el cielo, no hay un rayo de luz visible.\n"
     ]
    }
   ],
   "source": [
    "# Agrega el código para crear una variable para un asteroide que viaja a 19 km/s\n",
    "velocidadAsteroide = 19\n",
    "\n",
    "# Escribe varias expresiones de prueba para determinar si puedes ver el rayo de luz desde la tierra\n",
    "if velocidadAsteroide==20:\n",
    "    print(\"Voltee al cielo y vea el rayo de luz.\")\n",
    "# Agrega las instrucciones que se ejecutarán si las expresiones de prueba son True o False\n",
    "elif velocidadAsteroide>20:\n",
    "    print(\"Voltee al cielo y vea el rayo de liz.\")\n",
    "else:\n",
    "    print(\"No es necesario ver el cielo, no hay un rayo de luz visible.\")"
   ]
  },
  {
   "cell_type": "markdown",
   "metadata": {},
   "source": [
    "# Ejercicio: Uso de operadores and y or"
   ]
  },
  {
   "cell_type": "code",
   "execution_count": 7,
   "metadata": {},
   "outputs": [
    {
     "name": "stdout",
     "output_type": "stream",
     "text": [
      "Peligro inminente.\n"
     ]
    }
   ],
   "source": [
    "# Agrega el código para crear nuevas variables para la velocidad y el tamaño del asteroide\n",
    "# Para probar el código, prueba con varias velocidades y tamaños\n",
    "# Escribe varias expresiones de prueba o combinaciones de expresiones de prueba para determinar qué mensaje se debe enviar a Tierra.\n",
    "velocidadAsteroide = 30\n",
    "tamanioAsteroide = 26\n",
    "\n",
    "if velocidadAsteroide>25 and tamanioAsteroide>25:\n",
    "    # intrucción(es) a ejecutar\n",
    "    print(\"Peligro inminente.\")\n",
    "elif velocidadAsteroide>=20:\n",
    "    # intrucción(es) a ejecutar\n",
    "    print(\"Voltee al cielo y vea el asteroide.\")\n",
    "elif tamanioAsteroide<25:\n",
    "    # intrucción(es) a ejecutar\n",
    "    print(\"Que tenga un lindo dia, no hay nada de que preocuparse.\")\n",
    "else: \n",
    "    # intrucción(es) a ejecutar\n",
    "    print(\"Que tenga un lindo dia, no hay nada de que preocuparse.\")"
   ]
  }
 ],
 "metadata": {
  "interpreter": {
   "hash": "f9ad98e64aabdb23c848b3150f3988bfada987669af20a948f315a09e337818a"
  },
  "kernelspec": {
   "display_name": "Python 3.10.2 64-bit",
   "language": "python",
   "name": "python3"
  },
  "language_info": {
   "codemirror_mode": {
    "name": "ipython",
    "version": 3
   },
   "file_extension": ".py",
   "mimetype": "text/x-python",
   "name": "python",
   "nbconvert_exporter": "python",
   "pygments_lexer": "ipython3",
   "version": "3.10.2"
  },
  "orig_nbformat": 4
 },
 "nbformat": 4,
 "nbformat_minor": 2
}
