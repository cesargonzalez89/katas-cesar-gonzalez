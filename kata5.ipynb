{
 "cells": [
  {
   "cell_type": "markdown",
   "metadata": {},
   "source": [
    "# Crear variables para almacenar las dos distancias\n",
    "# ¡Asegúrate de quitar las comas!"
   ]
  },
  {
   "cell_type": "code",
   "execution_count": 4,
   "metadata": {},
   "outputs": [
    {
     "name": "stdout",
     "output_type": "stream",
     "text": [
      "628949330\n",
      "383246500.53952\n"
     ]
    }
   ],
   "source": [
    "Tierra = 149597870\n",
    "Jupiter = 778547200\n",
    "\n",
    "distancia = Jupiter - Tierra;\n",
    "\n",
    "print(distancia);\n",
    "\n",
    "distanciaMillas=distancia*0.609344\n",
    "\n",
    "print(distanciaMillas)"
   ]
  },
  {
   "cell_type": "markdown",
   "metadata": {},
   "source": [
    "# Ejercicio 2: convierte cadenas en números y usa valores absolutos"
   ]
  },
  {
   "cell_type": "code",
   "execution_count": 3,
   "metadata": {},
   "outputs": [
    {
     "name": "stdout",
     "output_type": "stream",
     "text": [
      "Calculador distancia entre planetas\n",
      "30\n",
      "18.63\n"
     ]
    }
   ],
   "source": [
    "print(\"Calculador distancia entre planetas\")\n",
    "\n",
    "primerPlaneta = input(\"Distancia al sol del primer planeta: \")\n",
    "segundoPlaneta = input(\"Distancia al sol del segundo planeta: \")\n",
    "\n",
    "primerPlaneta = int(primerPlaneta)\n",
    "segundoPlaneta = int(segundoPlaneta)\n",
    "\n",
    "distancia = segundoPlaneta - primerPlaneta\n",
    "\n",
    "distanciaAbsoluta = abs(distancia)\n",
    "\n",
    "print(distanciaAbsoluta)\n",
    "\n",
    "distanciaMillas = distanciaAbsoluta * 0.621\n",
    "\n",
    "print(distanciaMillas)"
   ]
  }
 ],
 "metadata": {
  "interpreter": {
   "hash": "a28e0295162fb3a8d715cb9ff079ff7d069628a6e6f6020e9ff058d4fab0389b"
  },
  "kernelspec": {
   "display_name": "Python 3.10.2 64-bit",
   "language": "python",
   "name": "python3"
  },
  "language_info": {
   "codemirror_mode": {
    "name": "ipython",
    "version": 3
   },
   "file_extension": ".py",
   "mimetype": "text/x-python",
   "name": "python",
   "nbconvert_exporter": "python",
   "pygments_lexer": "ipython3",
   "version": "3.10.2"
  },
  "orig_nbformat": 4
 },
 "nbformat": 4,
 "nbformat_minor": 2
}
