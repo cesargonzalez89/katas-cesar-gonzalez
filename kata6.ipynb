{
 "cells": [
  {
   "cell_type": "code",
   "execution_count": 2,
   "metadata": {},
   "outputs": [
    {
     "name": "stdout",
     "output_type": "stream",
     "text": [
      "8\n",
      "9\n",
      "Pluton\n"
     ]
    }
   ],
   "source": [
    "planets = ['Mercurio', 'Venus', 'Tierra', 'Marte', 'Jupiter', 'Saturno', 'Urano', 'Neptuno']\n",
    "\n",
    "print(len(planets))\n",
    "\n",
    "planets.append('Pluton')\n",
    "\n",
    "print(len(planets))\n",
    "\n",
    "print(planets[-1])\n"
   ]
  },
  {
   "cell_type": "code",
   "execution_count": 6,
   "metadata": {},
   "outputs": [
    {
     "name": "stdout",
     "output_type": "stream",
     "text": [
      "Planeas mas cercanos al sol que:Marte\n",
      "['Mercurio', 'Venus', 'Tierra']\n",
      "Planeas mas lejanos al sol que:Marte\n",
      "['Jupiter', 'Saturno', 'Urano']\n"
     ]
    }
   ],
   "source": [
    "planets = ['Mercurio', 'Venus', 'Tierra', 'Marte', 'Jupiter', 'Saturno', 'Urano', 'Neptuno']\n",
    "\n",
    "nuevoPlaneta = input(\"Ingresa el nombre de un planeta escribiendo solo la primer letra en mayuscula: \")\n",
    "\n",
    "indecePlaneta = planets.index(nuevoPlaneta)\n",
    "\n",
    "planetsCercanosSol = planets[0:indecePlaneta]\n",
    "\n",
    "print(\"Planeas mas cercanos al sol que:\" + nuevoPlaneta)\n",
    "print(planetsCercanosSol)\n",
    "\n",
    "planetsLejanosSol = planets[indecePlaneta+1:7]\n",
    "\n",
    "print(\"Planeas mas lejanos al sol que:\" + nuevoPlaneta)\n",
    "print(planetsLejanosSol)\n"
   ]
  }
 ],
 "metadata": {
  "interpreter": {
   "hash": "f9ad98e64aabdb23c848b3150f3988bfada987669af20a948f315a09e337818a"
  },
  "kernelspec": {
   "display_name": "Python 3.10.2 64-bit",
   "language": "python",
   "name": "python3"
  },
  "language_info": {
   "codemirror_mode": {
    "name": "ipython",
    "version": 3
   },
   "file_extension": ".py",
   "mimetype": "text/x-python",
   "name": "python",
   "nbconvert_exporter": "python",
   "pygments_lexer": "ipython3",
   "version": "3.10.2"
  },
  "orig_nbformat": 4
 },
 "nbformat": 4,
 "nbformat_minor": 2
}
