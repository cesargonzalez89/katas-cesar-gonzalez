{
 "cells": [
  {
   "cell_type": "markdown",
   "metadata": {},
   "source": [
    "# Ejercicio: Uso de funciones en Python"
   ]
  },
  {
   "cell_type": "code",
   "execution_count": 10,
   "metadata": {},
   "outputs": [
    {
     "name": "stdout",
     "output_type": "stream",
     "text": [
      "Reporte de combustible:    \n",
      "    Tanque 1: 10\n",
      "    Tanque 2: 20\n",
      "    Tanque 3: 25 \n",
      "    Promedio: 18.333333333333332\n",
      "    \n",
      "Reporte de combustible:    \n",
      "    Tanque 1: 10\n",
      "    Tanque 2: 20\n",
      "    Tanque 3: 25 \n",
      "    Promedio: 18.333333333333332\n",
      "    \n"
     ]
    }
   ],
   "source": [
    "# Función para leer 3 tanques de combustible y muestre el promedio\n",
    "def combustible(tanque1, tanque2, tanque3):\n",
    "    suma=tanque1+tanque2+tanque3\n",
    "    promedio=suma/3\n",
    "    return f\"\"\"Reporte de combustible:    \n",
    "    Tanque 1: {tanque1}\n",
    "    Tanque 2: {tanque2}\n",
    "    Tanque 3: {tanque3} \n",
    "    Promedio: {promedio}\n",
    "    \"\"\"\n",
    "\n",
    "# Llamamos a la función que genera el reporte print(funcion(tanque1, tanque2, tanque3))\n",
    "print(combustible(10, 20, 25))\n",
    "\n",
    "# Función promedio \n",
    "def promedioCombustible(totalCombustible):    \n",
    "    promedio=totalCombustible/3\n",
    "    return promedio\n",
    "\n",
    "# Actualiza la función\n",
    "def combustible(tanque1, tanque2, tanque3):\n",
    "    suma=tanque1+tanque2+tanque3\n",
    "    promedio = promedioCombustible(suma)\n",
    "    return f\"\"\"Reporte de combustible:    \n",
    "    Tanque 1: {tanque1}\n",
    "    Tanque 2: {tanque2}\n",
    "    Tanque 3: {tanque3} \n",
    "    Promedio: {promedio}\n",
    "    \"\"\"\n",
    "\n",
    "# Llamamos a la función que genera el reporte print(funcion(tanque1, tanque2, tanque3))\n",
    "print(combustible(10, 20, 25))"
   ]
  },
  {
   "cell_type": "markdown",
   "metadata": {},
   "source": [
    "# Ejercicio 2: Trabajo con argumentos de palabra clave"
   ]
  },
  {
   "cell_type": "code",
   "execution_count": 28,
   "metadata": {},
   "outputs": [
    {
     "name": "stdout",
     "output_type": "stream",
     "text": [
      "\n",
      "    Destino: Marte\n",
      "    Tiempo de vuelo: 63    \n",
      "    Total oxigeno: 80\n",
      "    \n",
      "\n",
      "    Destino: Marte\n",
      "    Tiempo de vuelo: 63    \n",
      "    Total oxigeno: 80\n",
      "    \n",
      "\n",
      "    Destino: Marte\n",
      "    Tiempo de vuelo: 63    \n",
      "    Total oxigeno: 80\n",
      "    tanque1 capacidad: 30, tanque2 capacidad: 50, \n"
     ]
    }
   ],
   "source": [
    "# Función con un informe preciso de la misión. Considera hora de prelanzamiento, tiempo de vuelo, destino, tanque externo y tanque interno\n",
    "def informePreciso(horaPrelanzamiento, tiempoVuelo, destino, tanqueExterno, tanqueInterno):\n",
    "    return f\"\"\"\n",
    "    Destino: {destino}\n",
    "    Tiempo de vuelo: {tiempoVuelo+horaPrelanzamiento}    \n",
    "    Total oxigeno: {tanqueExterno+tanqueInterno}\n",
    "    \"\"\"\n",
    "\n",
    "print(informePreciso(12, 51, \"Marte\", 30, 50))\n",
    "\n",
    "# Escribe tu nueva función de reporte considerando lo anterior\n",
    "def nuevoInformePreciso(destino, *minutos, **reservasCombustible):\n",
    "    return f\"\"\"\n",
    "    Destino: {destino}\n",
    "    Tiempo de vuelo: {sum(minutos)}    \n",
    "    Total oxigeno: {sum(reservasCombustible.values())}\n",
    "    \"\"\"\n",
    "\n",
    "print(nuevoInformePreciso(\"Marte\", 12, 51, tanque1=30, tanque2=50))\n",
    "\n",
    "# Escribe tu nueva función\n",
    "def nuevoInformePreciso1(destino, *minutos, **reservasCombustible):\n",
    "    reporte = f\"\"\"\n",
    "    Destino: {destino}\n",
    "    Tiempo de vuelo: {sum(minutos)}    \n",
    "    Total oxigeno: {sum(reservasCombustible.values())}\n",
    "    \"\"\"\n",
    "\n",
    "    for nombreTaanque, capacidadTanque in reservasCombustible.items():\n",
    "        reporte += f\"{nombreTaanque} capacidad: {capacidadTanque}, \"\n",
    "    \n",
    "    return reporte\n",
    "\n",
    "print(nuevoInformePreciso1(\"Marte\", 12, 51, tanque1=30, tanque2=50))"
   ]
  }
 ],
 "metadata": {
  "interpreter": {
   "hash": "f9ad98e64aabdb23c848b3150f3988bfada987669af20a948f315a09e337818a"
  },
  "kernelspec": {
   "display_name": "Python 3.10.2 64-bit",
   "language": "python",
   "name": "python3"
  },
  "language_info": {
   "codemirror_mode": {
    "name": "ipython",
    "version": 3
   },
   "file_extension": ".py",
   "mimetype": "text/x-python",
   "name": "python",
   "nbconvert_exporter": "python",
   "pygments_lexer": "ipython3",
   "version": "3.10.2"
  },
  "orig_nbformat": 4
 },
 "nbformat": 4,
 "nbformat_minor": 2
}
